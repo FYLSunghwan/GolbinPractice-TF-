{
 "cells": [
  {
   "cell_type": "code",
   "execution_count": 1,
   "metadata": {},
   "outputs": [
    {
     "name": "stderr",
     "output_type": "stream",
     "text": [
      "/Users/fylsunghwan/anaconda2/lib/python2.7/site-packages/h5py/__init__.py:36: FutureWarning: Conversion of the second argument of issubdtype from `float` to `np.floating` is deprecated. In future, it will be treated as `np.float64 == np.dtype(float).type`.\n",
      "  from ._conv import register_converters as _register_converters\n"
     ]
    }
   ],
   "source": [
    "import tensorflow as tf\n",
    "\n",
    "x_data = [1,2,3]\n",
    "y_data = [1,2,3]"
   ]
  },
  {
   "cell_type": "code",
   "execution_count": 2,
   "metadata": {},
   "outputs": [],
   "source": [
    "W = tf.Variable(tf.random_uniform([1],-1.0,1.0))\n",
    "b = tf.Variable(tf.random_uniform([1],-1.0,1.0))\n",
    "\n",
    "X = tf.placeholder(tf.float32, name=\"X\")\n",
    "Y = tf.placeholder(tf.float32, name=\"Y\")\n",
    "\n",
    "hypothesis = W * X + b\n",
    "\n",
    "cost = tf.reduce_mean(tf.square(hypothesis - Y))\n",
    "optimizer = tf.train.GradientDescentOptimizer(learning_rate=0.1)\n",
    "train_op = optimizer.minimize(cost)"
   ]
  },
  {
   "cell_type": "code",
   "execution_count": 5,
   "metadata": {},
   "outputs": [
    {
     "name": "stdout",
     "output_type": "stream",
     "text": [
      "(0, 0.8785549, array([1.0416088], dtype=float32), array([0.01343994], dtype=float32))\n",
      "(1, 0.010496871, array([0.99739796], dtype=float32), array([-0.00589157], dtype=float32))\n",
      "(2, 0.0001276265, array([1.0021832], dtype=float32), array([-0.00367244], dtype=float32))\n",
      "(3, 3.6593174e-06, array([1.0016145], dtype=float32), array([-0.00381124], dtype=float32))\n",
      "(4, 2.0765883e-06, array([1.0016322], dtype=float32), array([-0.00369476], dtype=float32))\n",
      "(5, 1.961278e-06, array([1.0015867], dtype=float32), array([-0.00360869], dtype=float32))\n",
      "(6, 1.8678912e-06, array([1.0015492], dtype=float32), array([-0.00352162], dtype=float32))\n",
      "(7, 1.7790848e-06, array([1.0015119], dtype=float32), array([-0.00343699], dtype=float32))\n",
      "(8, 1.6945111e-06, array([1.0014756], dtype=float32), array([-0.00335435], dtype=float32))\n",
      "(9, 1.6141603e-06, array([1.00144], dtype=float32), array([-0.00327372], dtype=float32))\n",
      "(10, 1.5374363e-06, array([1.0014055], dtype=float32), array([-0.00319499], dtype=float32))\n",
      "(11, 1.4643671e-06, array([1.0013717], dtype=float32), array([-0.00311818], dtype=float32))\n",
      "(12, 1.3946723e-06, array([1.0013387], dtype=float32), array([-0.00304323], dtype=float32))\n",
      "(13, 1.3286107e-06, array([1.0013065], dtype=float32), array([-0.00297008], dtype=float32))\n",
      "(14, 1.2655677e-06, array([1.0012751], dtype=float32), array([-0.00289868], dtype=float32))\n",
      "(15, 1.2053559e-06, array([1.0012444], dtype=float32), array([-0.00282896], dtype=float32))\n",
      "(16, 1.1479241e-06, array([1.0012146], dtype=float32), array([-0.00276093], dtype=float32))\n",
      "(17, 1.0936569e-06, array([1.0011853], dtype=float32), array([-0.0026946], dtype=float32))\n",
      "(18, 1.0415355e-06, array([1.0011569], dtype=float32), array([-0.00262979], dtype=float32))\n",
      "(19, 9.922398e-07, array([1.001129], dtype=float32), array([-0.00256662], dtype=float32))\n",
      "(20, 9.449802e-07, array([1.001102], dtype=float32), array([-0.0025049], dtype=float32))\n",
      "(21, 9.001706e-07, array([1.0010754], dtype=float32), array([-0.00244471], dtype=float32))\n",
      "(22, 8.5739754e-07, array([1.0010495], dtype=float32), array([-0.00238593], dtype=float32))\n",
      "(23, 8.166664e-07, array([1.0010244], dtype=float32), array([-0.00232855], dtype=float32))\n",
      "(24, 7.7788076e-07, array([1.0009997], dtype=float32), array([-0.00227259], dtype=float32))\n",
      "(25, 7.4090553e-07, array([1.0009757], dtype=float32), array([-0.00221795], dtype=float32))\n",
      "(26, 7.057326e-07, array([1.0009522], dtype=float32), array([-0.00216466], dtype=float32))\n",
      "(27, 6.7222e-07, array([1.0009294], dtype=float32), array([-0.00211263], dtype=float32))\n",
      "(28, 6.4027444e-07, array([1.0009071], dtype=float32), array([-0.00206185], dtype=float32))\n",
      "(29, 6.099255e-07, array([1.0008851], dtype=float32), array([-0.00201231], dtype=float32))\n",
      "(30, 5.809596e-07, array([1.0008639], dtype=float32), array([-0.00196392], dtype=float32))\n",
      "(31, 5.532848e-07, array([1.0008432], dtype=float32), array([-0.00191669], dtype=float32))\n",
      "(32, 5.2708924e-07, array([1.0008229], dtype=float32), array([-0.00187063], dtype=float32))\n",
      "(33, 5.019453e-07, array([1.0008031], dtype=float32), array([-0.00182566], dtype=float32))\n",
      "(34, 4.782103e-07, array([1.0007838], dtype=float32), array([-0.00178178], dtype=float32))\n",
      "(35, 4.5541296e-07, array([1.000765], dtype=float32), array([-0.00173895], dtype=float32))\n",
      "(36, 4.338241e-07, array([1.0007466], dtype=float32), array([-0.00169715], dtype=float32))\n",
      "(37, 4.1318026e-07, array([1.0007286], dtype=float32), array([-0.00165636], dtype=float32))\n",
      "(38, 3.9359762e-07, array([1.0007111], dtype=float32), array([-0.00161653], dtype=float32))\n",
      "(39, 3.7492694e-07, array([1.000694], dtype=float32), array([-0.00157767], dtype=float32))\n",
      "(40, 3.57086e-07, array([1.0006773], dtype=float32), array([-0.00153976], dtype=float32))\n",
      "(41, 3.4013019e-07, array([1.000661], dtype=float32), array([-0.00150275], dtype=float32))\n",
      "(42, 3.239927e-07, array([1.0006452], dtype=float32), array([-0.00146662], dtype=float32))\n",
      "(43, 3.0861085e-07, array([1.0006297], dtype=float32), array([-0.00143136], dtype=float32))\n",
      "(44, 2.9387155e-07, array([1.0006145], dtype=float32), array([-0.00139695], dtype=float32))\n",
      "(45, 2.7992783e-07, array([1.0005997], dtype=float32), array([-0.00136337], dtype=float32))\n",
      "(46, 2.6666098e-07, array([1.0005853], dtype=float32), array([-0.00133059], dtype=float32))\n",
      "(47, 2.5399103e-07, array([1.0005713], dtype=float32), array([-0.00129859], dtype=float32))\n",
      "(48, 2.4189768e-07, array([1.0005575], dtype=float32), array([-0.00126737], dtype=float32))\n",
      "(49, 2.3043754e-07, array([1.0005441], dtype=float32), array([-0.00123692], dtype=float32))\n",
      "(50, 2.1947578e-07, array([1.0005311], dtype=float32), array([-0.00120716], dtype=float32))\n",
      "(51, 2.0903794e-07, array([1.0005183], dtype=float32), array([-0.00117816], dtype=float32))\n",
      "(52, 1.9909783e-07, array([1.0005058], dtype=float32), array([-0.00114985], dtype=float32))\n",
      "(53, 1.8962646e-07, array([1.0004936], dtype=float32), array([-0.00112219], dtype=float32))\n",
      "(54, 1.8067102e-07, array([1.0004817], dtype=float32), array([-0.00109521], dtype=float32))\n",
      "(55, 1.7208201e-07, array([1.0004702], dtype=float32), array([-0.00106887], dtype=float32))\n",
      "(56, 1.6390584e-07, array([1.0004588], dtype=float32), array([-0.00104316], dtype=float32))\n",
      "(57, 1.561409e-07, array([1.0004479], dtype=float32), array([-0.00101807], dtype=float32))\n",
      "(58, 1.487099e-07, array([1.000437], dtype=float32), array([-0.00099362], dtype=float32))\n",
      "(59, 1.4159606e-07, array([1.0004267], dtype=float32), array([-0.0009697], dtype=float32))\n",
      "(60, 1.3488734e-07, array([1.0004163], dtype=float32), array([-0.00094642], dtype=float32))\n",
      "(61, 1.2846199e-07, array([1.0004064], dtype=float32), array([-0.00092364], dtype=float32))\n",
      "(62, 1.2241334e-07, array([1.0003965], dtype=float32), array([-0.00090148], dtype=float32))\n",
      "(63, 1.1657094e-07, array([1.0003871], dtype=float32), array([-0.00087978], dtype=float32))\n",
      "(64, 1.1101654e-07, array([1.0003778], dtype=float32), array([-0.00085865], dtype=float32))\n",
      "(65, 1.05818835e-07, array([1.0003686], dtype=float32), array([-0.00083804], dtype=float32))\n",
      "(66, 1.00745844e-07, array([1.0003598], dtype=float32), array([-0.00081787], dtype=float32))\n",
      "(67, 9.5984426e-08, array([1.0003511], dtype=float32), array([-0.00079821], dtype=float32))\n",
      "(68, 9.1419544e-08, array([1.0003427], dtype=float32), array([-0.000779], dtype=float32))\n",
      "(69, 8.7047475e-08, array([1.0003345], dtype=float32), array([-0.00076029], dtype=float32))\n",
      "(70, 8.293237e-08, array([1.0003264], dtype=float32), array([-0.00074203], dtype=float32))\n",
      "(71, 7.899711e-08, array([1.0003185], dtype=float32), array([-0.00072418], dtype=float32))\n",
      "(72, 7.525185e-08, array([1.0003109], dtype=float32), array([-0.00070676], dtype=float32))\n",
      "(73, 7.166489e-08, array([1.0003034], dtype=float32), array([-0.00068977], dtype=float32))\n",
      "(74, 6.826419e-08, array([1.0002961], dtype=float32), array([-0.00067319], dtype=float32))\n",
      "(75, 6.49911e-08, array([1.0002891], dtype=float32), array([-0.00065699], dtype=float32))\n",
      "(76, 6.192149e-08, array([1.000282], dtype=float32), array([-0.00064123], dtype=float32))\n",
      "(77, 5.8967004e-08, array([1.0002754], dtype=float32), array([-0.0006258], dtype=float32))\n",
      "(78, 5.6180056e-08, array([1.0002687], dtype=float32), array([-0.00061078], dtype=float32))\n",
      "(79, 5.3511116e-08, array([1.0002623], dtype=float32), array([-0.0005961], dtype=float32))\n",
      "(80, 5.0982862e-08, array([1.000256], dtype=float32), array([-0.00058179], dtype=float32))\n",
      "(81, 4.85491e-08, array([1.0002497], dtype=float32), array([-0.0005678], dtype=float32))\n",
      "(82, 4.6218215e-08, array([1.0002438], dtype=float32), array([-0.00055413], dtype=float32))\n",
      "(83, 4.407127e-08, array([1.0002378], dtype=float32), array([-0.00054083], dtype=float32))\n",
      "(84, 4.1958387e-08, array([1.0002322], dtype=float32), array([-0.00052779], dtype=float32))\n",
      "(85, 3.995589e-08, array([1.0002266], dtype=float32), array([-0.00051511], dtype=float32))\n",
      "(86, 3.8064652e-08, array([1.0002211], dtype=float32), array([-0.00050274], dtype=float32))\n",
      "(87, 3.623849e-08, array([1.0002159], dtype=float32), array([-0.00049063], dtype=float32))\n",
      "(88, 3.451633e-08, array([1.0002106], dtype=float32), array([-0.00047885], dtype=float32))\n",
      "(89, 3.28955e-08, array([1.0002056], dtype=float32), array([-0.00046734], dtype=float32))\n",
      "(90, 3.1352254e-08, array([1.0002006], dtype=float32), array([-0.00045613], dtype=float32))\n",
      "(91, 2.984031e-08, array([1.0001959], dtype=float32), array([-0.00044515], dtype=float32))\n",
      "(92, 2.8415178e-08, array([1.0001911], dtype=float32), array([-0.00043447], dtype=float32))\n",
      "(93, 2.7073284e-08, array([1.0001866], dtype=float32), array([-0.000424], dtype=float32))\n",
      "(94, 2.5816353e-08, array([1.000182], dtype=float32), array([-0.00041384], dtype=float32))\n",
      "(95, 2.4553836e-08, array([1.0001777], dtype=float32), array([-0.00040387], dtype=float32))\n",
      "(96, 2.339344e-08, array([1.0001734], dtype=float32), array([-0.00039418], dtype=float32))\n",
      "(97, 2.2287475e-08, array([1.0001693], dtype=float32), array([-0.00038472], dtype=float32))\n",
      "(98, 2.1230301e-08, array([1.0001652], dtype=float32), array([-0.00037548], dtype=float32))\n",
      "(99, 2.0229834e-08, array([1.0001612], dtype=float32), array([-0.00036647], dtype=float32))\n",
      "===Test===\n",
      "('X: 2.5, Y:', array([2.5000365], dtype=float32))\n"
     ]
    }
   ],
   "source": [
    "with tf.Session() as sess:\n",
    "    sess.run(tf.global_variables_initializer())\n",
    "    for step in range(100):\n",
    "        _, cost_val = sess.run([train_op, cost], feed_dict={X: x_data, Y: y_data})\n",
    "        print(step, cost_val, sess.run(W), sess.run(b))\n",
    "    print(\"===Test===\")\n",
    "    print(\"X: 2.5, Y:\", sess.run(hypothesis, feed_dict={X: 2.5}))"
   ]
  }
 ],
 "metadata": {
  "kernelspec": {
   "display_name": "Python 3",
   "language": "python",
   "name": "python3"
  },
  "language_info": {
   "codemirror_mode": {
    "name": "ipython",
    "version": 2
   },
   "file_extension": ".py",
   "mimetype": "text/x-python",
   "name": "python",
   "nbconvert_exporter": "python",
   "pygments_lexer": "ipython2",
   "version": "2.7.15"
  }
 },
 "nbformat": 4,
 "nbformat_minor": 2
}
